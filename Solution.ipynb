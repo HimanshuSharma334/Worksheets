{
 "cells": [
  {
   "cell_type": "markdown",
   "metadata": {},
   "source": [
    "# Program to solve a quadratic equation of the form 𝑎𝑥**2 + 𝑏𝑥 + 𝑐 = 0. Where a, b and c are to be taken by user input. Handle the erroneous input, such as ‘a’ should not be equal to 0."
   ]
  },
  {
   "cell_type": "code",
   "execution_count": 1,
   "metadata": {},
   "outputs": [
    {
     "name": "stdout",
     "output_type": "stream",
     "text": [
      "a: 1\n",
      "b: -7\n",
      "c: 12\n",
      "Roots are real and different \n",
      "4.0\n",
      "3.0\n"
     ]
    }
   ],
   "source": [
    "# Python program to find roots of a quadratic equation \n",
    "import math \n",
    "\n",
    " \n",
    "def findRoots( a, b, c):\n",
    "    if a == 0:\n",
    "        print(\"Invalid\") \n",
    "        return -1\n",
    "    d = b * b - 4 * a * c \n",
    "    sqrt_val = math.sqrt(abs(d))\n",
    "    if d > 0:\n",
    "        print(\"Roots are real and different \") \n",
    "        print((-b + sqrt_val)/(2 * a)) \n",
    "        print((-b - sqrt_val)/(2 * a)) \n",
    "    elif d == 0: \n",
    "        print(\"Roots are real and same\") \n",
    "        print(-b / (2*a)) \n",
    "    else: #d<0 \n",
    "        print(\"Roots are complex\") \n",
    "        print(- b / (2*a) , \" + i\", sqrt_val) \n",
    "        print(- b / (2*a) , \" - i\", sqrt_val) \n",
    "\n",
    "        \n",
    "        \n",
    "# Driver Program \n",
    "a = float(input(\"a: \"))\n",
    "b = float(input(\"b: \"))\n",
    "c = float(input(\"c: \"))\n",
    "findRoots(a, b, c) \n",
    "\n",
    " \n"
   ]
  },
  {
   "cell_type": "markdown",
   "metadata": {},
   "source": [
    "# Program to find the sum of first ‘n’ natural numbers without using any loop. Ask user to input the value of ‘n’."
   ]
  },
  {
   "cell_type": "code",
   "execution_count": 2,
   "metadata": {},
   "outputs": [
    {
     "name": "stdout",
     "output_type": "stream",
     "text": [
      "Enter the value of n: 7\n",
      "Sum of first 7 natural numbers is:  28\n"
     ]
    }
   ],
   "source": [
    "num = int(input(\"Enter the value of n: \"))\n",
    "hold = num\n",
    "sum1 = 0\n",
    "\n",
    "if num <= 0: \n",
    "   print(\"Enter a whole positive number!\") \n",
    "else: \n",
    "   while num > 0:\n",
    "        sum1 = sum1 + num\n",
    "        num = num - 1;\n",
    "    # display output\n",
    "print(\"Sum of first\", hold, \"natural numbers is: \", sum1)"
   ]
  },
  {
   "cell_type": "code",
   "execution_count": null,
   "metadata": {},
   "outputs": [],
   "source": []
  }
 ],
 "metadata": {
  "kernelspec": {
   "display_name": "Python 3",
   "language": "python",
   "name": "python3"
  },
  "language_info": {
   "codemirror_mode": {
    "name": "ipython",
    "version": 3
   },
   "file_extension": ".py",
   "mimetype": "text/x-python",
   "name": "python",
   "nbconvert_exporter": "python",
   "pygments_lexer": "ipython3",
   "version": "3.7.6"
  }
 },
 "nbformat": 4,
 "nbformat_minor": 4
}
