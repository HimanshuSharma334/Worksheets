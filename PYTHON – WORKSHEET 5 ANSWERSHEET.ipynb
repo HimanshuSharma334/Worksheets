{
 "cells": [
  {
   "cell_type": "markdown",
   "metadata": {},
   "source": [
    "## Q1 to Q10 have only one correct answer. Choose the correct option to answer your question."
   ]
  },
  {
   "cell_type": "raw",
   "metadata": {},
   "source": [
    "Answer 1: C) +\n",
    "Answer 2: D) i-False, ii-True\n",
    "Answer 3: B) [“ABC”,” RAHUL”,” NITIN”]\n",
    "Answer 4: D) [2,4,6]\n",
    "Answer 5: C) [6] \n",
    "Answer 6: D) None of the above\n",
    "Answer 7: B) error\n",
    "Answer 8: C) a[1][1]\n",
    "Answer 9: D) None of the above\n",
    "Answer 10:D) All of the above.\n"
   ]
  },
  {
   "cell_type": "markdown",
   "metadata": {},
   "source": [
    "## Q11 is subjective answer type question, answer it briefly."
   ]
  },
  {
   "cell_type": "raw",
   "metadata": {},
   "source": [
    "Answer 11: Lists 1) Lists save elements in the order they are inserted. 2) Lists support indexing. 3) We can change the value of the element stored in the lists. 4) Lists can store duplicate values. 5) Lists are declared using square brackets. 6) Example: A = [1, 2, 3, 4, 5, 1, 2, 3]\n",
    "\n",
    "Sets 1) Sets do not save elements in the order they are inserted. 2) Sets do not support indexing. 3) We cannot change the value of the element stored in the sets. 4) Sets cannot store duplicate values. 5) Sets are declared using curly brackets. 6) Example: A = {1, 2, 3, 4, 5}"
   ]
  },
  {
   "cell_type": "markdown",
   "metadata": {},
   "source": [
    "## Answer 12:"
   ]
  },
  {
   "cell_type": "code",
   "execution_count": 12,
   "metadata": {},
   "outputs": [],
   "source": [
    "def squared_numbers(list):\n",
    "    numbers=list\n",
    "    squared_numbers = [number ** 2 for number in numbers]\n",
    "    print(squared_numbers)"
   ]
  },
  {
   "cell_type": "code",
   "execution_count": 14,
   "metadata": {},
   "outputs": [
    {
     "name": "stdout",
     "output_type": "stream",
     "text": [
      "[1, 4, 9, 16, 36]\n"
     ]
    }
   ],
   "source": [
    "squared_numbers([1, 2, 3, 4, 6])"
   ]
  },
  {
   "cell_type": "markdown",
   "metadata": {},
   "source": [
    "## Answer 13:"
   ]
  },
  {
   "cell_type": "code",
   "execution_count": 17,
   "metadata": {},
   "outputs": [],
   "source": [
    "def remove_duplicate(list):\n",
    "    dup_items = set()\n",
    "    uniq_items = []\n",
    "    for x in list:\n",
    "        if x not in dup_items:\n",
    "            uniq_items.append(x)\n",
    "            dup_items.add(x)\n",
    "    print(dup_items)\n"
   ]
  },
  {
   "cell_type": "code",
   "execution_count": 18,
   "metadata": {},
   "outputs": [
    {
     "name": "stdout",
     "output_type": "stream",
     "text": [
      "{40, 10, 80, 50, 20, 60, 30}\n"
     ]
    }
   ],
   "source": [
    "a = [10,20,30,20,10,50,60,40,80,50,40]\n",
    "remove_duplicate(a)"
   ]
  },
  {
   "cell_type": "markdown",
   "metadata": {},
   "source": [
    "## Answer 14:"
   ]
  },
  {
   "cell_type": "code",
   "execution_count": 20,
   "metadata": {},
   "outputs": [],
   "source": [
    "def set_opertaion(A,B):\n",
    "    print(\"Union :\", A | B) # union \n",
    "    print(\"Intersection :\", A & B)# intersection\n",
    "    print(\"Difference :\", A - B) # difference\n",
    "    print(\"Symmetric difference :\", A ^ B)# symmetric difference \n"
   ]
  },
  {
   "cell_type": "code",
   "execution_count": 21,
   "metadata": {},
   "outputs": [
    {
     "name": "stdout",
     "output_type": "stream",
     "text": [
      "Union : {0, 1, 2, 3, 4, 5, 6, 8}\n",
      "Intersection : {2, 4}\n",
      "Difference : {0, 8, 6}\n",
      "Symmetric difference : {0, 1, 3, 5, 6, 8}\n"
     ]
    }
   ],
   "source": [
    "A = {0, 2, 4, 6, 8} \n",
    "B = {1, 2, 3, 4, 5} \n",
    "\n",
    "set_opertaion(A,B)\n"
   ]
  },
  {
   "cell_type": "markdown",
   "metadata": {},
   "source": [
    "## Answer 15:"
   ]
  },
  {
   "cell_type": "code",
   "execution_count": 28,
   "metadata": {},
   "outputs": [],
   "source": [
    "def add_set(a,b):\n",
    "    a.add(b)\n",
    "    print('final set are:',a)\n",
    "\n"
   ]
  },
  {
   "cell_type": "code",
   "execution_count": 29,
   "metadata": {},
   "outputs": [
    {
     "name": "stdout",
     "output_type": "stream",
     "text": [
      "final set are: {'a', 'u', 'o', 'e', 'i'}\n"
     ]
    }
   ],
   "source": [
    "set1 = {'a', 'e', 'i', 'u'}\n",
    "element = 'o'\n",
    "\n",
    "add_set(set1,element)\n"
   ]
  },
  {
   "cell_type": "code",
   "execution_count": null,
   "metadata": {},
   "outputs": [],
   "source": []
  }
 ],
 "metadata": {
  "kernelspec": {
   "display_name": "Python 3",
   "language": "python",
   "name": "python3"
  },
  "language_info": {
   "codemirror_mode": {
    "name": "ipython",
    "version": 3
   },
   "file_extension": ".py",
   "mimetype": "text/x-python",
   "name": "python",
   "nbconvert_exporter": "python",
   "pygments_lexer": "ipython3",
   "version": "3.7.6"
  }
 },
 "nbformat": 4,
 "nbformat_minor": 4
}
