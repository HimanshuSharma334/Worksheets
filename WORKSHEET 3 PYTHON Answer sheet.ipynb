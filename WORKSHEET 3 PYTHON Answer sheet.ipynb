{
 "cells": [
  {
   "cell_type": "markdown",
   "metadata": {},
   "source": [
    "# WORKSHEET 3 PYTHON Answersheet"
   ]
  },
  {
   "cell_type": "markdown",
   "metadata": {},
   "source": [
    "## Q1 to Q8 have only one correct answer. Choose the correct option to answer your question."
   ]
  },
  {
   "cell_type": "raw",
   "metadata": {},
   "source": [
    "Answer:1 D) int(‘32’)\n",
    "Answer:2 C) 4 \n",
    "Answer:3 B) (a**b)%c\n",
    "Answer:4 A) <class ‘type’>\n",
    "Answer:5 C) 65\n",
    "Answer:6 D) Method\n",
    "Answer:7 B) False\n",
    "Answer:8 B) Sometimes"
   ]
  },
  {
   "cell_type": "markdown",
   "metadata": {},
   "source": [
    "# Q9 and Q10 have multiple correct answers. Choose all the correct options to answer your question."
   ]
  },
  {
   "cell_type": "raw",
   "metadata": {},
   "source": [
    " Answer:9 A) -68.7e100 \n",
    "          B) 42e3 \n",
    "          C) 4.2038 \n",
    "          D) 3.0\n",
    "          \n",
    " Answer:10 B) You can pass keyword arguments in any order.\n",
    "           C) You can call a function with positional and keyword arguments.\n",
    " "
   ]
  },
  {
   "cell_type": "markdown",
   "metadata": {},
   "source": [
    "# Q11 to Q15 are programming questions. "
   ]
  },
  {
   "cell_type": "raw",
   "metadata": {},
   "source": [
    "Answer:11 A python function print pyramid of stars. Level of pyramid should be taken as an input from the user.\n",
    "E.g.\n",
    "Input = 5\n",
    "    * \n",
    "   * * \n",
    "  * * * \n",
    " * * * * \n",
    "* * * * * \n",
    "\n",
    "Code:"
   ]
  },
  {
   "cell_type": "code",
   "execution_count": 1,
   "metadata": {},
   "outputs": [
    {
     "name": "stdout",
     "output_type": "stream",
     "text": [
      "Enter Level of pyramid  10\n",
      "                  * \n",
      "                 * * \n",
      "                * * * \n",
      "               * * * * \n",
      "              * * * * * \n",
      "             * * * * * * \n",
      "            * * * * * * * \n",
      "           * * * * * * * * \n",
      "          * * * * * * * * * \n",
      "         * * * * * * * * * * \n"
     ]
    }
   ],
   "source": [
    "def triangle(n): \n",
    "    k = 2*n - 2\n",
    "    for i in range(0, n): \n",
    "        for j in range(0, k): \n",
    "            print(end=\" \") \n",
    "        k = k - 1\n",
    "        for j in range(0, i+1): \n",
    "            print(\"* \", end=\"\") \n",
    "        print(\"\\r\") \n",
    "\n",
    "# Driver Code \n",
    "n = int(input('Enter Level of pyramid  '))\n",
    "triangle(n) \n"
   ]
  },
  {
   "cell_type": "raw",
   "metadata": {},
   "source": [
    "Answer:12 a python function print Hourglass pattern. E.g.\n",
    "Input = 5\n",
    "Output:"
   ]
  },
  {
   "cell_type": "code",
   "execution_count": 2,
   "metadata": {},
   "outputs": [],
   "source": [
    "def hourglass(n): \n",
    "    character = \"*\"\n",
    "    rows_number = n\n",
    "    mid = int((rows_number+1)/2)\n",
    "    for i in range(mid):\n",
    "        print(\" \"*i + character*(2*(mid-i)-1))\n",
    "    for j in range(mid-1, 0, -1):\n",
    "        print(\" \"*(j-1) + character*(2*(mid-j) + 1))\n",
    "\n"
   ]
  },
  {
   "cell_type": "code",
   "execution_count": 3,
   "metadata": {},
   "outputs": [
    {
     "name": "stdout",
     "output_type": "stream",
     "text": [
      "Enter Level of hourglass  10\n",
      "*********\n",
      " *******\n",
      "  *****\n",
      "   ***\n",
      "    *\n",
      "   ***\n",
      "  *****\n",
      " *******\n",
      "*********\n"
     ]
    }
   ],
   "source": [
    "# Driver Code \n",
    "n = int(input('Enter Level of hourglass  '))\n",
    "hourglass(n)"
   ]
  },
  {
   "cell_type": "raw",
   "metadata": {},
   "source": [
    "Answer:13. Write a python function to print Pascal’s Triangle. The number of levels in the triangle must be taken as input\n",
    "by user. E.g.\n",
    "Input = 5\n",
    "Output:\n",
    "1\n",
    "1 1\n",
    "1 2 1\n",
    "1 3 3 1\n",
    "1 4 6 4 1\n",
    "\n"
   ]
  },
  {
   "cell_type": "code",
   "execution_count": 8,
   "metadata": {},
   "outputs": [
    {
     "name": "stdout",
     "output_type": "stream",
     "text": [
      "Enter Level of Pascal  7\n",
      "1  \n",
      "1  1  \n",
      "1  2  1  \n",
      "1  3  3  1  \n",
      "1  4  6  4  1  \n",
      "1  5  10  10  5  1  \n",
      "1  6  15  20  15  6  1  \n"
     ]
    }
   ],
   "source": [
    "def printPascal(n) : \n",
    "    for line in range(0, n) : \n",
    "        for i in range(0, line + 1) : \n",
    "            print(binomialCoeff(line, i),  \" \", end = \"\") \n",
    "        print()\n",
    "\n",
    "def binomialCoeff(n, k) : \n",
    "    res = 1\n",
    "    if (k > n - k) : \n",
    "        k = n - k \n",
    "    for i in range(0 , k) : \n",
    "        res = res * (n - i) \n",
    "        res = res // (i + 1) \n",
    "    return res \n",
    "\n",
    "# Driver Code \n",
    "n = int(input('Enter Level of Pascal  '))\n",
    "printPascal(n)"
   ]
  },
  {
   "cell_type": "raw",
   "metadata": {},
   "source": [
    "Answer:14. Write a python function to print Diamond Shaped Pattern shown below. Function must take integer input\n",
    "which represents the number of stars in the middle most line. E.g.:\n",
    "Input = 5\n"
   ]
  },
  {
   "cell_type": "code",
   "execution_count": 12,
   "metadata": {},
   "outputs": [
    {
     "name": "stdout",
     "output_type": "stream",
     "text": [
      "Enter Level of Diamond  6\n",
      "     *\n",
      "    ***\n",
      "   *****\n",
      "  *******\n",
      " *********\n",
      "***********\n",
      " *********\n",
      "  *******\n",
      "   *****\n",
      "    ***\n",
      "     *\n"
     ]
    }
   ],
   "source": [
    "def Diamond(rows): \n",
    "    n = 0\n",
    "    for i in range(1, rows + 1): \n",
    "        for j in range (1, (rows - i) + 1): \n",
    "            print(end = \" \") \n",
    "        while n != (2 * i - 1): \n",
    "            print(\"*\", end = \"\") \n",
    "            n = n + 1\n",
    "        n = 0\n",
    "        print() \n",
    "    k = 1\n",
    "    n = 1\n",
    "    for i in range(1, rows): \n",
    "        for j in range (1, k + 1): \n",
    "            print(end = \" \") \n",
    "        k = k + 1\n",
    "        while n <= (2 * (rows - i) - 1): \n",
    "            print(\"*\", end = \"\") \n",
    "            n = n + 1\n",
    "        n = 1\n",
    "        print() \n",
    "\n",
    "# Driver Code \n",
    "rows = int(input('Enter Level of Diamond  '))\n",
    "Diamond(rows)"
   ]
  },
  {
   "cell_type": "raw",
   "metadata": {},
   "source": [
    "Answer:15. Write a python function to print Diamond Shaped Character Pattern shown below. Function must take integer input within range 1 to 26, which represents the rank of alphabet. E.g.:\n",
    "Input = 5"
   ]
  },
  {
   "cell_type": "code",
   "execution_count": null,
   "metadata": {},
   "outputs": [],
   "source": []
  },
  {
   "cell_type": "code",
   "execution_count": null,
   "metadata": {},
   "outputs": [],
   "source": []
  }
 ],
 "metadata": {
  "kernelspec": {
   "display_name": "Python 3",
   "language": "python",
   "name": "python3"
  },
  "language_info": {
   "codemirror_mode": {
    "name": "ipython",
    "version": 3
   },
   "file_extension": ".py",
   "mimetype": "text/x-python",
   "name": "python",
   "nbconvert_exporter": "python",
   "pygments_lexer": "ipython3",
   "version": "3.7.6"
  }
 },
 "nbformat": 4,
 "nbformat_minor": 4
}
