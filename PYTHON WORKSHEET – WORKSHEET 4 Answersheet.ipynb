{
 "cells": [
  {
   "cell_type": "markdown",
   "metadata": {},
   "source": [
    "### Q1 to Q8 have only one correct answer. Choose the correct option to answer your question."
   ]
  },
  {
   "cell_type": "raw",
   "metadata": {},
   "source": [
    "Answer 1:B) len()\n",
    "Answer 2:C) compiled then interpreted\n",
    "Answer 3:B) [1,2,2,1]\n",
    "Answer 4:D) [60,30]\n",
    "Answer 5:C) a[ : :-1]\n",
    "Answer 6:B) Meena\n",
    "Answer 7:C) [“WorldHello ”, “PythonHello ”, “WorldAdios ”, “PythonAdios ”]\n",
    "Answer 8:A) 4 \n"
   ]
  },
  {
   "cell_type": "markdown",
   "metadata": {},
   "source": [
    "### Q9 and Q10 have multiple correct answers. Choose all the correct options to answer your question."
   ]
  },
  {
   "cell_type": "raw",
   "metadata": {},
   "source": [
    "Answer 9:A) l1+l2           B) l1.append(l2)                         D) l1.extend(l2)\n",
    "Answer 10:A) s[0]+s[-1]     B) s[ : : -1][-1] + s[len(s)-1]          D) s[ : : -1][ : : -6]"
   ]
  },
  {
   "cell_type": "markdown",
   "metadata": {},
   "source": [
    "### Q11 to Q13 are subjective questions, answer them briefly"
   ]
  },
  {
   "cell_type": "raw",
   "metadata": {},
   "source": [
    "Answer 11:\n",
    "Interpreter\t:\n",
    "->It's translates program one statement at a time.\n",
    "->Interpreters usually take less amount of time to analyze the source code. However, the overall       execution time is comparatively slower than compilers.\n",
    "->No intermediate object code is generated, hence are memory efficient.\n",
    "\n",
    "Compiler :\n",
    "->Scans the entire program and translates it as a whole into machine code.\n",
    "->Compilers usually take a large amount of time to analyze the source code. However,the overall execution time is comparatively faster than interpreters.\n",
    "->Generates intermediate object code which further requires linking, hence requires more memory.\n",
    "\n",
    "Python language is interpreted. But that is half correct the python program is first compiled and then interpreted. The compilation part is hidden from the programmer thus, many programmers believe that it is an interpreted language. The compilation part is done first when we execute our code and this will generate byte code and internally this byte code gets converted by the python virtual machine(p.v.m) according to the underlying platform(machine+operating system)."
   ]
  },
  {
   "cell_type": "raw",
   "metadata": {},
   "source": [
    "Answer 12:PYTHONPATH is an environment variable which you can set to add additional directories where python will look for modules and packages. For most installations, you should not set these variables since they are not needed for Python to run. Python knows where to find its standard library.\n",
    "\n",
    "The only reason to set PYTHONPATH is to maintain directories of custom Python libraries that you do not want to install in the global default location (i.e., the site-packages directory)."
   ]
  },
  {
   "cell_type": "raw",
   "metadata": {},
   "source": [
    "Answer 13:Python String strip() function will remove leading and trailing whitespaces.\n",
    "        Example:   s = '  Hello  World   From Pankaj \\t\\n\\r\\tHi There  '\n",
    "        >>> s.strip()\n",
    "       'Hello  World   From Pankaj \\t\\n\\r\\tHi There'\n"
   ]
  },
  {
   "cell_type": "markdown",
   "metadata": {},
   "source": [
    "### Q14 and Q15 are programming questions. Answer them in Jupyter Notebook."
   ]
  },
  {
   "cell_type": "raw",
   "metadata": {},
   "source": [
    "Answer 14:A python program to represent a user entered number in expanded form.\n",
    "For eg: user_input = 12345\n",
    "Output = 1*10000 + 2*1000 + 3*100 + 4*10 + 5*1"
   ]
  },
  {
   "cell_type": "code",
   "execution_count": 31,
   "metadata": {},
   "outputs": [],
   "source": [
    "def expanded_form(num):\n",
    "    result = []\n",
    "    for index, digit in enumerate(str(num)[::-1]):\n",
    "        if int(digit) != 0:\n",
    "            result.append((digit + \"*\" + str(pow(10, index))))\n",
    "    return ' + '.join(result[::-1])"
   ]
  },
  {
   "cell_type": "code",
   "execution_count": 34,
   "metadata": {},
   "outputs": [
    {
     "data": {
      "text/plain": [
       "'1*10000 + 2*1000 + 3*100 + 4*10 + 5*1'"
      ]
     },
     "execution_count": 34,
     "metadata": {},
     "output_type": "execute_result"
    }
   ],
   "source": [
    "expanded_form(12345)"
   ]
  },
  {
   "cell_type": "raw",
   "metadata": {},
   "source": [
    "Answer 15:A python program to determine whether the number entered by the user is an Armstrong number or not?"
   ]
  },
  {
   "cell_type": "code",
   "execution_count": 36,
   "metadata": {},
   "outputs": [
    {
     "name": "stdout",
     "output_type": "stream",
     "text": [
      "Enter a number: 153\n",
      "153 is an Armstrong number\n"
     ]
    }
   ],
   "source": [
    "num = int(input(\"Enter a number: \"))  \n",
    "sum = 0  \n",
    "temp = num  \n",
    "  \n",
    "while temp > 0:  \n",
    "   digit = temp % 10  \n",
    "   sum += digit ** 3  \n",
    "   temp //= 10  \n",
    "  \n",
    "if num == sum:  \n",
    "   print(num,\"is an Armstrong number\")  \n",
    "else:  \n",
    "   print(num,\"is not an Armstrong number\")  "
   ]
  },
  {
   "cell_type": "code",
   "execution_count": null,
   "metadata": {},
   "outputs": [],
   "source": []
  }
 ],
 "metadata": {
  "kernelspec": {
   "display_name": "Python 3",
   "language": "python",
   "name": "python3"
  },
  "language_info": {
   "codemirror_mode": {
    "name": "ipython",
    "version": 3
   },
   "file_extension": ".py",
   "mimetype": "text/x-python",
   "name": "python",
   "nbconvert_exporter": "python",
   "pygments_lexer": "ipython3",
   "version": "3.7.6"
  }
 },
 "nbformat": 4,
 "nbformat_minor": 4
}
